{
  "cells": [
    {
      "cell_type": "markdown",
      "metadata": {
        "id": "view-in-github",
        "colab_type": "text"
      },
      "source": [
        "<a href=\"https://colab.research.google.com/github/PiyumaliSandunika/e18-4yp-Multimodal-Emotion-Prediction-Using-Reinforcement-Learning/blob/main/Text_model/online_machine_learning.ipynb\" target=\"_parent\"><img src=\"https://colab.research.google.com/assets/colab-badge.svg\" alt=\"Open In Colab\"/></a>"
      ]
    },
    {
      "cell_type": "code",
      "source": [
        "from google.colab import drive\n",
        "drive.mount('/content/drive')"
      ],
      "metadata": {
        "colab": {
          "base_uri": "https://localhost:8080/"
        },
        "id": "ngUoASVOn2AK",
        "outputId": "53b705a1-cf47-4592-a723-dd8c4f70ae4c"
      },
      "execution_count": 1,
      "outputs": [
        {
          "output_type": "stream",
          "name": "stdout",
          "text": [
            "Drive already mounted at /content/drive; to attempt to forcibly remount, call drive.mount(\"/content/drive\", force_remount=True).\n"
          ]
        }
      ]
    },
    {
      "cell_type": "markdown",
      "source": [
        "** Model Loading**"
      ],
      "metadata": {
        "id": "eo9D1oTAec2b"
      }
    },
    {
      "cell_type": "code",
      "execution_count": 2,
      "metadata": {
        "id": "SZe1gEDC_2LT",
        "outputId": "8b842f9a-9c89-4722-bd14-f0bebc511bb1",
        "colab": {
          "base_uri": "https://localhost:8080/"
        }
      },
      "outputs": [
        {
          "output_type": "stream",
          "name": "stderr",
          "text": [
            "/usr/local/lib/python3.10/dist-packages/huggingface_hub/utils/_token.py:89: UserWarning: \n",
            "The secret `HF_TOKEN` does not exist in your Colab secrets.\n",
            "To authenticate with the Hugging Face Hub, create a token in your settings tab (https://huggingface.co/settings/tokens), set it as secret in your Google Colab and restart your session.\n",
            "You will be able to reuse this secret in all of your notebooks.\n",
            "Please note that authentication is recommended but still optional to access public models or datasets.\n",
            "  warnings.warn(\n"
          ]
        }
      ],
      "source": [
        "from transformers import DistilBertForSequenceClassification, DistilBertTokenizer\n",
        "import torch\n",
        "import joblib\n",
        "device = \"cuda:0\" if torch.cuda.is_available() else \"cpu\"\n",
        "# Load the saved model\n",
        "model_path = \"/content/drive/MyDrive/Data_for_ensemble/Models/ERM_30.pkl\"\n",
        "loaded_model = model = joblib.load(model_path)\n",
        "tokenizer = DistilBertTokenizer.from_pretrained('distilbert-base-uncased')\n"
      ]
    },
    {
      "cell_type": "code",
      "source": [
        "def predict_emotion_with_probabilities(sentence, model, tokenizer):\n",
        "    # tokenizer = DistilBertTokenizer.from_pretrained('distilbert-base-uncased')\n",
        "    device = \"cuda:0\" if torch.cuda.is_available() else \"cpu\"\n",
        "    inputs = tokenizer(sentence, return_tensors=\"pt\").to(device)\n",
        "    # Perform inference\n",
        "    emo = model(**inputs)\n",
        "    logits = emo.logits.to(device)\n",
        "\n",
        "    # Apply softmax to get probabilities\n",
        "    probabilities = torch.nn.functional.softmax(logits, dim=1)\n",
        "\n",
        "    # Convert probabilities tensor to list\n",
        "    probabilities_list = probabilities.squeeze().tolist()\n",
        "    emotion_labels = [\"happiness\", \"sadness\", \"anger\", \"neutral\"]\n",
        "    predicted_emotion = emotion_labels[torch.argmax(logits, dim=1).item()]\n",
        "\n",
        "    return probabilities_list, predicted_emotion"
      ],
      "metadata": {
        "id": "AfXsqxMh5_q7"
      },
      "execution_count": 3,
      "outputs": []
    },
    {
      "cell_type": "code",
      "source": [
        "\n",
        "# Example sentences for prediction\n",
        "sentences = [\n",
        "    # \"I am a broken-hearted\",\n",
        "    # \"I am emotionaly damaged right now\",\n",
        "    # \"Do what makes feel you better\",\n",
        "    # \"I feel nervous\",\n",
        "    # \"I am a student\",\n",
        "    # \"You're stupid and it makes me anger\",\n",
        "    # \"Go to hell\",\n",
        "    # \"You are the worst,I do not want to see you\",\n",
        "    # \"I am angry right now\",\n",
        "    # \"You are my sunshine\",\n",
        "    # \"Such a wonderful performance\",\n",
        "    # \"I am lonely\",\n",
        "    # \"This is strange! anyways bravo to myself!\",\n",
        "    # \"Things are getting stranger\",\n",
        "    # \"I lumped my throat\",\n",
        "    # \"Billy, your face is like a wet weekend\",\n",
        "    \"what a crap\"\n",
        "]\n",
        "sentence = \"what a crap\"\n",
        "# Perform prediction for each sentence\n",
        "# for sentence in sentences:\n",
        "predicted_emotion = predict_emotion_with_probabilities(sentence,loaded_model,tokenizer)\n",
        "print(f\"Sentence: '{sentence}'\")\n",
        "print(f\"Predicted Emotion: {predicted_emotion}\\n\")"
      ],
      "metadata": {
        "colab": {
          "base_uri": "https://localhost:8080/"
        },
        "id": "7NbLBfjVeFtv",
        "outputId": "db38eef3-944b-4908-8a97-b6964985595f"
      },
      "execution_count": 4,
      "outputs": [
        {
          "output_type": "stream",
          "name": "stdout",
          "text": [
            "Sentence: 'what a crap'\n",
            "Predicted Emotion: ([9.243698855243565e-07, 7.843907951610163e-06, 0.9999877214431763, 3.45289822689665e-06], 'anger')\n",
            "\n"
          ]
        }
      ]
    },
    {
      "cell_type": "code",
      "source": [
        "# def active_learning_selection(user_data, model, threshold=0.5):\n",
        "#     selected_examples = []\n",
        "#     for text, label in user_data:\n",
        "#         encoded_input = tokenizer(text, padding=True, truncation=True, return_tensors='pt')\n",
        "#         outputs = model(**encoded_input)\n",
        "#         probabilities = torch.softmax(outputs.logits, dim=1)\n",
        "#         confidence = probabilities.max().item()\n",
        "#         if confidence < threshold:\n",
        "#             selected_examples.append((text, label))\n",
        "#     return selected_examples\n",
        "\n",
        "# # Function for online learning update\n",
        "# def online_learning_update(new_data, model, optimizer, loss_fn):\n",
        "#     for text, label in new_data:\n",
        "#         encoded_input = tokenizer(text, padding=True, truncation=True, return_tensors='pt')\n",
        "#         outputs = model(**encoded_input, labels=torch.tensor([label]))\n",
        "#         loss = outputs.loss\n",
        "#         loss.backward()\n",
        "#         optimizer.step()\n",
        "#         optimizer.zero_grad()\n",
        "#     return model\n",
        "# def is_confident(predicted_label, confidence_threshold=0.7):\n",
        "#     # Check if the prediction confidence is above the threshold\n",
        "#     return confidence_threshold <= torch.softmax(predicted_label, dim=1).max()"
      ],
      "metadata": {
        "id": "lMCsBQpexucp"
      },
      "execution_count": null,
      "outputs": []
    },
    {
      "cell_type": "code",
      "source": [
        "# from transformers import DistilBertTokenizer, DistilBertForSequenceClassification\n",
        "# import torch\n",
        "\n",
        "# # Initialize DistilBERT tokenizer and load the fine-tuned model\n",
        "# model_path = \"/content/drive/MyDrive/FYP_Text/\"\n",
        "# loaded_model = DistilBertForSequenceClassification.from_pretrained(model_path)\n",
        "# tokenizer = DistilBertTokenizer.from_pretrained('distilbert-base-uncased')\n",
        "\n",
        "# # Define label mappings\n",
        "# label_map = {\n",
        "#     0: \"happiness\",\n",
        "#     1: \"sadness\",\n",
        "#     2: \"anger\",\n",
        "#     3: \"neutral\"\n",
        "# }\n",
        "\n",
        "# # Function for online learning update\n",
        "# def online_learning_update(new_data, model, optimizer, loss_fn):\n",
        "#     for text, label in new_data:\n",
        "#         encoded_input = tokenizer(text, padding=True, truncation=True, return_tensors='pt')\n",
        "#         encoded_input['labels'] = torch.tensor([label])\n",
        "#         outputs = model(**encoded_input)\n",
        "#         loss = outputs.loss\n",
        "#         loss.backward()\n",
        "#         optimizer.step()\n",
        "#         optimizer.zero_grad()\n",
        "#     return model\n",
        "\n",
        "# # Main loop for user interaction\n",
        "# user_data = []\n",
        "\n",
        "# optimizer = torch.optim.AdamW(model.parameters(), lr=5e-5)  # Optimizer for online learning\n",
        "# loss_fn = torch.nn.CrossEntropyLoss()  # Loss function for online learning\n",
        "\n",
        "# while True:\n",
        "#     # Receive input from the user\n",
        "#     user_input = input(\"Enter text: \")\n",
        "\n",
        "#     # Perform inference with the current model\n",
        "#     encoded_input = tokenizer(user_input, padding=True, truncation=True, return_tensors='pt')\n",
        "#     outputs = model(**encoded_input)\n",
        "#     predicted_label = torch.argmax(outputs.logits, dim=1).item()\n",
        "#     print(f\"Predicted emotion: {label_map[predicted_label]}\")\n",
        "\n",
        "#     # Ask for user feedback\n",
        "#     user_label = int(input(\"Enter correct label (happiness:0, sadness:1, anger:2, neutral:3): \"))\n",
        "#     user_data.append((user_input, user_label))\n",
        "\n",
        "#     # Retrain the model with the new data\n",
        "#     model = online_learning_update([(user_input, user_label)], model, optimizer, loss_fn)\n",
        "\n",
        "#     # Perform inference with the updated model\n",
        "#     outputs = model(**encoded_input)\n",
        "#     predicted_label = torch.argmax(outputs.logits, dim=1).item()\n",
        "#     print(f\"New predicted emotion: {label_map[predicted_label]}\")\n",
        "\n",
        "#     # Prompt the user for more input\n",
        "#     more_data = input(\"Do you have more data to provide? (yes/no): \")\n",
        "#     if more_data.lower() != \"yes\":\n",
        "#         break\n"
      ],
      "metadata": {
        "colab": {
          "base_uri": "https://localhost:8080/"
        },
        "id": "ZEBgipfT6ahZ",
        "outputId": "c0bb769a-ff86-43bf-b3b6-334e5eda78f5"
      },
      "execution_count": null,
      "outputs": [
        {
          "name": "stdout",
          "output_type": "stream",
          "text": [
            "Enter text: I’m on cloud nine\n",
            "Predicted emotion: neutral\n",
            "Enter correct label (happiness:0, sadness:1, anger:2, neutral:3): 0\n",
            "New predicted emotion: happiness\n",
            "Do you have more data to provide? (yes/no): no\n"
          ]
        }
      ]
    },
    {
      "cell_type": "code",
      "source": [
        "# # Perform inference with the updated model\n",
        "# encoded_input = tokenizer(\"I'm on cloud\", padding=True, truncation=True, return_tensors='pt')\n",
        "# outputs = model(**encoded_input)\n",
        "# predicted_label = torch.argmax(outputs.logits, dim=1).item()\n",
        "# print(f\"New predicted emotion: {label_map[predicted_label]}\")\n"
      ],
      "metadata": {
        "id": "7YO1OITD66LN"
      },
      "execution_count": null,
      "outputs": []
    },
    {
      "cell_type": "markdown",
      "source": [
        "Evaluation with Holdout data"
      ],
      "metadata": {
        "id": "4d5GVeGkr5qS"
      }
    },
    {
      "cell_type": "code",
      "source": [
        "# from transformers import DistilBertTokenizer, DistilBertForSequenceClassification\n",
        "# import torch\n",
        "# import pandas as pd\n",
        "\n",
        "# # Initialize DistilBERT tokenizer and load the fine-tuned model\n",
        "# import joblib\n",
        "\n",
        "# # Load the saved model\n",
        "# model_path = \"/content/drive/MyDrive/Data_for_ensemble/Models/ERM_30.pkl\"\n",
        "# loaded_model = model = joblib.load(model_path)\n",
        "# tokenizer = DistilBertTokenizer.from_pretrained('distilbert-base-uncased')\n",
        "# device = \"cuda:0\" if torch.cuda.is_available() else \"cpu\"\n",
        "\n",
        "# # Define label mappings\n",
        "# label_map = {\n",
        "#     0: \"happiness\",\n",
        "#     1: \"sadness\",\n",
        "#     2: \"anger\",\n",
        "#     3: \"neutral\"\n",
        "# }\n",
        "\n",
        "# # Function for online learning update\n",
        "# def online_learning_update(new_data, model, optimizer, loss_fn,device):\n",
        "#     for text, label in new_data:\n",
        "#         encoded_input = tokenizer(text, padding=True, truncation=True, return_tensors='pt').to(device)\n",
        "#         encoded_input['labels'] = torch.tensor([label])\n",
        "#         outputs = model(**encoded_input)\n",
        "#         loss = outputs.loss\n",
        "#         loss.backward()\n",
        "#         optimizer.step()\n",
        "#         optimizer.zero_grad()\n",
        "#     return model\n",
        "\n",
        "# # Function to evaluate model\n",
        "# def evaluate_model(model, tokenizer, holdout_data,device):\n",
        "#     model.eval()\n",
        "#     correct = 0\n",
        "#     total = 0\n",
        "#     with torch.no_grad():\n",
        "#         for text, label in holdout_data:\n",
        "#             encoded_input = tokenizer(text, padding=True, truncation=True, return_tensors='pt').to(device)\n",
        "#             labels = torch.tensor([label])\n",
        "#             outputs = model(**encoded_input, labels=labels)\n",
        "#             logits = outputs.logits\n",
        "#             _, predicted = torch.max(logits, 1)\n",
        "#             total += labels.size(0)\n",
        "#             correct += (predicted == labels).sum().item()\n",
        "#     accuracy = correct / total\n",
        "#     return accuracy\n",
        "\n",
        "# # Main loop for user interaction\n",
        "# user_data = []\n",
        "\n",
        "# optimizer = torch.optim.AdamW(loaded_model.parameters(), lr=5e-5)  # Optimizer for online learning\n",
        "# loss_fn = torch.nn.CrossEntropyLoss()  # Loss function for online learning\n",
        "\n",
        "# # Holdout data for evaluation\n",
        "# # holdout_data = [\n",
        "# #     (\"text1\", 0),  # Example data with label\n",
        "# #     (\"text2\", 1),\n",
        "# #     # Add more holdout data as needed\n",
        "# # ]\n",
        "\n"
      ],
      "metadata": {
        "id": "OZ3RnbHyr3RC"
      },
      "execution_count": 33,
      "outputs": []
    },
    {
      "cell_type": "code",
      "source": [
        "from transformers import DistilBertTokenizer, DistilBertForSequenceClassification\n",
        "import torch\n",
        "import pandas as pd\n",
        "import joblib\n",
        "\n",
        "# Initialize DistilBERT tokenizer and load the fine-tuned model\n",
        "model_path = \"/content/drive/MyDrive/Data_for_ensemble/Models/ERM_30.pkl\"\n",
        "loaded_model = joblib.load(model_path)\n",
        "loaded_model.to(device)  # Ensure the model is on the correct device\n",
        "tokenizer = DistilBertTokenizer.from_pretrained('distilbert-base-uncased')\n",
        "device = \"cuda:0\" if torch.cuda.is_available() else \"cpu\"\n",
        "\n",
        "# Define label mappings\n",
        "label_map = {\n",
        "    0: \"happiness\",\n",
        "    1: \"sadness\",\n",
        "    2: \"anger\",\n",
        "    3: \"neutral\"\n",
        "}\n",
        "\n",
        "# Function for online learning update\n",
        "def online_learning_update(new_data, model, optimizer, loss_fn, device):\n",
        "    model.train()\n",
        "    for text, label in new_data:\n",
        "        encoded_input = tokenizer(text, padding=True, truncation=True, return_tensors='pt').to(device)\n",
        "        labels = torch.tensor([label]).to(device)\n",
        "        encoded_input['labels'] = labels\n",
        "        outputs = model(**encoded_input)\n",
        "        loss = outputs.loss\n",
        "        loss.backward()\n",
        "        optimizer.step()\n",
        "        optimizer.zero_grad()\n",
        "    return model\n",
        "\n",
        "# Function to evaluate model\n",
        "def evaluate_model(model, tokenizer, holdout_data, device):\n",
        "    model.eval()\n",
        "    correct = 0\n",
        "    total = 0\n",
        "    with torch.no_grad():\n",
        "        for text, label in holdout_data:\n",
        "            encoded_input = tokenizer(text, padding=True, truncation=True, return_tensors='pt').to(device)\n",
        "            labels = torch.tensor([label]).to(device)\n",
        "            outputs = model(**encoded_input, labels=labels)\n",
        "            logits = outputs.logits\n",
        "            _, predicted = torch.max(logits, 1)\n",
        "            total += labels.size(0)\n",
        "            correct += (predicted == labels).sum().item()\n",
        "    accuracy = correct / total\n",
        "    return accuracy\n",
        "\n",
        "# Main loop for user interaction\n",
        "user_data = []\n",
        "\n",
        "optimizer = torch.optim.AdamW(loaded_model.parameters(), lr=5e-5)  # Optimizer for online learning\n",
        "loss_fn = torch.nn.CrossEntropyLoss()  # Loss function for online learning\n"
      ],
      "metadata": {
        "id": "p4KHYAdO_0JO"
      },
      "execution_count": 5,
      "outputs": []
    },
    {
      "cell_type": "code",
      "source": [
        "# Load holdout data from CSV\n",
        "holdout_data_file = \"testdata.csv\"\n",
        "holdout_df = pd.read_csv(holdout_data_file)\n",
        "# Shuffle the DataFrame\n",
        "holdout_df = holdout_df.sample(frac=1).reset_index(drop=True)\n",
        "# Extract sentences and labels\n",
        "texts = holdout_df['content'].tolist()\n",
        "holdout_df[\"emotion\"] = holdout_df[\"emotion\"].str.strip()\n",
        "labels = holdout_df['emotion'].tolist()\n",
        "# Convert emotion labels to numerical values\n",
        "label_map2 = {\"happiness\": 0, \"sadness\": 1, \"anger\": 2, \"neutral\": 3}\n",
        "labels = [label_map2[label] for label in labels]\n",
        "# Convert holdout data to list of tuples\n",
        "holdout_data = list(zip(texts,labels))"
      ],
      "metadata": {
        "id": "z5plkgKpvceQ"
      },
      "execution_count": 6,
      "outputs": []
    },
    {
      "cell_type": "code",
      "source": [
        "# Load train data from CSV\n",
        "train_data_file = \"traindata.csv\"\n",
        "train_df = pd.read_csv(holdout_data_file)\n",
        "# Shuffle the DataFrame\n",
        "train_df = train_df.sample(frac=1).reset_index(drop=True)\n",
        "# Extract sentences and labels\n",
        "texts = train_df['content'].tolist()\n",
        "train_df[\"emotion\"] = train_df[\"emotion\"].str.strip()\n",
        "labels = train_df['emotion'].tolist()\n",
        "# Convert emotion labels to numerical values\n",
        "label_map2 = {\"happiness\": 0, \"sadness\": 1, \"anger\": 2, \"neutral\": 3}\n",
        "labels = [label_map2[label] for label in labels]\n",
        "# Convert holdout data to list of tuples\n",
        "train_data = list(zip(texts,labels))"
      ],
      "metadata": {
        "id": "dCMaME5-gHCQ"
      },
      "execution_count": 7,
      "outputs": []
    },
    {
      "cell_type": "code",
      "source": [
        "\n",
        "# # Initial evaluation\n",
        "# initial_accuracy = evaluate_model(loaded_model, tokenizer, holdout_data)\n",
        "# print(\"Initial accuracy:\", initial_accuracy)\n",
        "\n",
        "# while True:\n",
        "#     # Receive input from the user\n",
        "#     user_input = input(\"Enter text: \")\n",
        "\n",
        "#     # Perform inference with the current model\n",
        "#     encoded_input = tokenizer(user_input, padding=True, truncation=True, return_tensors='pt')\n",
        "#     outputs = loaded_model(**encoded_input)\n",
        "#     predicted_label = torch.argmax(outputs.logits, dim=1).item()\n",
        "#     print(f\"Predicted emotion: {label_map[predicted_label]}\")\n",
        "\n",
        "#     # Ask for user feedback\n",
        "#     user_label = int(input(\"Enter correct label (happiness:0, sadness:1, anger:2, neutral:3): \"))\n",
        "#     user_data.append((user_input, user_label))\n",
        "\n",
        "#     # Retrain the model with the new data\n",
        "#     loaded_model = online_learning_update([(user_input, user_label)], loaded_model, optimizer, loss_fn)\n",
        "\n",
        "#     # Perform inference with the updated model\n",
        "#     outputs = loaded_model(**encoded_input)\n",
        "#     predicted_label = torch.argmax(outputs.logits, dim=1).item()\n",
        "#     print(f\"New predicted emotion: {label_map[predicted_label]}\")\n",
        "\n",
        "#     # Prompt the user for more input\n",
        "#     more_data = input(\"Do you have more data to provide? (yes/no): \")\n",
        "#     if more_data.lower() != \"yes\":\n",
        "#         break\n",
        "\n",
        "# # Evaluate model after update\n",
        "# updated_accuracy = evaluate_model(loaded_model, tokenizer, holdout_data)\n",
        "# print(\"Updated accuracy:\", updated_accuracy)\n"
      ],
      "metadata": {
        "id": "wjyOrV2DuS7X",
        "outputId": "f366ae11-0431-4e10-eba4-3e5dbe5a0e03",
        "colab": {
          "base_uri": "https://localhost:8080/"
        }
      },
      "execution_count": null,
      "outputs": [
        {
          "output_type": "stream",
          "name": "stdout",
          "text": [
            "Initial accuracy: 0.6632124352331606\n",
            "Enter text: Missed an important deadline\n",
            "Predicted emotion: sadness\n",
            "Enter correct label (happiness:0, sadness:1, anger:2, neutral:3): 1\n",
            "New predicted emotion: sadness\n",
            "Do you have more data to provide? (yes/no): yes\n",
            "Enter text: Are you kidding me right now\n",
            "Predicted emotion: sadness\n",
            "Enter correct label (happiness:0, sadness:1, anger:2, neutral:3): 2\n",
            "New predicted emotion: neutral\n",
            "Do you have more data to provide? (yes/no): Are you kidding me right now\n",
            "Updated accuracy: 0.6632124352331606\n"
          ]
        }
      ]
    },
    {
      "cell_type": "code",
      "source": [
        "# device = \"cuda:0\" if torch.cuda.is_available() else \"cpu\"\n",
        "# # Initial evaluation\n",
        "# initial_accuracy = evaluate_model(loaded_model, tokenizer, holdout_data,device)\n",
        "# print(\"Initial accuracy:\", initial_accuracy)\n",
        "\n",
        "# counter = 0\n",
        "# total_inputs = 0\n",
        "# accuracy_values = [initial_accuracy]  # List to store accuracy values\n",
        "# # while True:\n",
        "\n",
        "\n",
        "# for user_input, user_label in train_data:\n",
        "#     # Perform inference with the current model\n",
        "#     encoded_input = tokenizer(user_input, padding=True, truncation=True, return_tensors='pt').to(device)\n",
        "#     outputs = loaded_model(**encoded_input)\n",
        "#     predicted_label = torch.argmax(outputs.logits, dim=1).item()\n",
        "#     print(f\"Predicted emotion: {label_map[predicted_label]}\")\n",
        "\n",
        "#     # Retrain the model with the new data\n",
        "#     loaded_model = online_learning_update([(user_input, user_label)], loaded_model, optimizer, loss_fn,device)\n",
        "\n",
        "#     # Perform inference with the updated model\n",
        "#     outputs = loaded_model(**encoded_input)\n",
        "#     predicted_label = torch.argmax(outputs.logits, dim=1).item()\n",
        "#     print(f\"New predicted emotion: {label_map[predicted_label]}\")\n",
        "\n",
        "#     total_inputs += 1\n",
        "\n",
        "#     if total_inputs % 5 == 0:\n",
        "#         # Evaluate model after every 5 inputs\n",
        "#         updated_accuracy = evaluate_model(loaded_model, tokenizer, holdout_data,device)\n",
        "#         accuracy_values.append(updated_accuracy)\n",
        "#         print(\"Updated accuracy:\", updated_accuracy)\n",
        "\n",
        "#     # Prompt the user for more input\n",
        "#     # more_data = input(\"Do you have more data to provide? (yes/no): \")\n",
        "#     # if more_data.lower() != \"yes\":\n",
        "#     #     break\n"
      ],
      "metadata": {
        "id": "Ly1qv65pexmn"
      },
      "execution_count": 18,
      "outputs": []
    },
    {
      "cell_type": "code",
      "source": [
        "# # Plotting the graph\n",
        "# import matplotlib.pyplot as plt\n",
        "# inputs = range(0, total_inputs + 1, 5)\n",
        "# plt.plot(inputs, accuracy_values, marker='o')\n",
        "# plt.xlabel('Number of Inputs')\n",
        "# plt.ylabel('Accuracy')\n",
        "# plt.title('Accuracy vs. Number of Inputs')\n",
        "# plt.grid(True)\n",
        "# plt.show()"
      ],
      "metadata": {
        "id": "41pr0NCEme3R",
        "collapsed": true,
        "colab": {
          "base_uri": "https://localhost:8080/",
          "height": 211
        },
        "outputId": "bc05679d-2f5a-49df-a63c-5635e27a81e9"
      },
      "execution_count": 43,
      "outputs": [
        {
          "output_type": "error",
          "ename": "NameError",
          "evalue": "name 'plt' is not defined",
          "traceback": [
            "\u001b[0;31m---------------------------------------------------------------------------\u001b[0m",
            "\u001b[0;31mNameError\u001b[0m                                 Traceback (most recent call last)",
            "\u001b[0;32m<ipython-input-43-2664a47f81ff>\u001b[0m in \u001b[0;36m<cell line: 3>\u001b[0;34m()\u001b[0m\n\u001b[1;32m      1\u001b[0m \u001b[0;31m# Plotting the graph\u001b[0m\u001b[0;34m\u001b[0m\u001b[0;34m\u001b[0m\u001b[0m\n\u001b[1;32m      2\u001b[0m \u001b[0minputs\u001b[0m \u001b[0;34m=\u001b[0m \u001b[0mrange\u001b[0m\u001b[0;34m(\u001b[0m\u001b[0;36m0\u001b[0m\u001b[0;34m,\u001b[0m \u001b[0mtotal_inputs\u001b[0m \u001b[0;34m+\u001b[0m \u001b[0;36m1\u001b[0m\u001b[0;34m,\u001b[0m \u001b[0;36m5\u001b[0m\u001b[0;34m)\u001b[0m\u001b[0;34m\u001b[0m\u001b[0;34m\u001b[0m\u001b[0m\n\u001b[0;32m----> 3\u001b[0;31m \u001b[0mplt\u001b[0m\u001b[0;34m.\u001b[0m\u001b[0mplot\u001b[0m\u001b[0;34m(\u001b[0m\u001b[0minputs\u001b[0m\u001b[0;34m,\u001b[0m \u001b[0maccuracy_values\u001b[0m\u001b[0;34m,\u001b[0m \u001b[0mmarker\u001b[0m\u001b[0;34m=\u001b[0m\u001b[0;34m'o'\u001b[0m\u001b[0;34m)\u001b[0m\u001b[0;34m\u001b[0m\u001b[0;34m\u001b[0m\u001b[0m\n\u001b[0m\u001b[1;32m      4\u001b[0m \u001b[0mplt\u001b[0m\u001b[0;34m.\u001b[0m\u001b[0mxlabel\u001b[0m\u001b[0;34m(\u001b[0m\u001b[0;34m'Number of Inputs'\u001b[0m\u001b[0;34m)\u001b[0m\u001b[0;34m\u001b[0m\u001b[0;34m\u001b[0m\u001b[0m\n\u001b[1;32m      5\u001b[0m \u001b[0mplt\u001b[0m\u001b[0;34m.\u001b[0m\u001b[0mylabel\u001b[0m\u001b[0;34m(\u001b[0m\u001b[0;34m'Accuracy'\u001b[0m\u001b[0;34m)\u001b[0m\u001b[0;34m\u001b[0m\u001b[0;34m\u001b[0m\u001b[0m\n",
            "\u001b[0;31mNameError\u001b[0m: name 'plt' is not defined"
          ]
        }
      ]
    },
    {
      "cell_type": "code",
      "source": [
        "import matplotlib.pyplot as plt\n",
        "\n",
        "initial_accuracy = evaluate_model(loaded_model, tokenizer, holdout_data,device)\n",
        "print(\"Initial accuracy:\", initial_accuracy)\n",
        "\n",
        "counter = 0\n",
        "total_inputs = 0\n",
        "accuracy_values = [initial_accuracy]  # List to store accuracy values\n",
        "\n",
        "for user_input, user_label in train_data:\n",
        "    encoded_input = tokenizer(user_input, padding=True, truncation=True, return_tensors='pt').to(device)\n",
        "    outputs = loaded_model(**encoded_input)\n",
        "    predicted_label = torch.argmax(outputs.logits, dim=1).item()\n",
        "    # print(f\"Predicted emotion: {label_map[predicted_label]}\")\n",
        "\n",
        "    loaded_model = online_learning_update([(user_input, user_label)], loaded_model, optimizer, loss_fn,device)\n",
        "\n",
        "    outputs = loaded_model(**encoded_input)\n",
        "    predicted_label = torch.argmax(outputs.logits, dim=1).item()\n",
        "    # print(f\"New predicted emotion: {label_map[predicted_label]}\")\n",
        "\n",
        "    total_inputs += 1\n",
        "\n",
        "    if total_inputs % 5 == 0:\n",
        "        updated_accuracy = evaluate_model(loaded_model, tokenizer, holdout_data,device)\n",
        "        accuracy_values.append(updated_accuracy)  # Append updated accuracy\n",
        "        print(\"Updated accuracy:\", updated_accuracy)\n",
        "\n",
        "    if total_inputs >= 250:  # Stop after a certain number of inputs (adjust as needed)\n",
        "        break\n",
        "\n",
        "# Plotting the graph\n",
        "inputs = range(0, total_inputs + 1, 5)\n",
        "plt.plot(inputs, accuracy_values, marker='o')\n",
        "plt.xlabel('Number of Inputs')\n",
        "plt.ylabel('Accuracy')\n",
        "plt.title('Accuracy vs. Number of Inputs')\n",
        "plt.grid(True)\n",
        "plt.show()\n"
      ],
      "metadata": {
        "colab": {
          "base_uri": "https://localhost:8080/",
          "height": 1000
        },
        "id": "PNK9-K8dj646",
        "outputId": "0463b1e3-3247-4fb5-f1bb-9d38fa27add2"
      },
      "execution_count": 8,
      "outputs": [
        {
          "output_type": "stream",
          "name": "stdout",
          "text": [
            "Initial accuracy: 0.635\n",
            "Updated accuracy: 0.73\n",
            "Updated accuracy: 0.675\n",
            "Updated accuracy: 0.66\n",
            "Updated accuracy: 0.69\n",
            "Updated accuracy: 0.75\n",
            "Updated accuracy: 0.77\n",
            "Updated accuracy: 0.795\n",
            "Updated accuracy: 0.85\n",
            "Updated accuracy: 0.865\n",
            "Updated accuracy: 0.81\n",
            "Updated accuracy: 0.83\n",
            "Updated accuracy: 0.89\n",
            "Updated accuracy: 0.89\n",
            "Updated accuracy: 0.885\n",
            "Updated accuracy: 0.89\n",
            "Updated accuracy: 0.91\n",
            "Updated accuracy: 0.9\n",
            "Updated accuracy: 0.89\n",
            "Updated accuracy: 0.89\n",
            "Updated accuracy: 0.89\n",
            "Updated accuracy: 0.895\n",
            "Updated accuracy: 0.895\n",
            "Updated accuracy: 0.9\n",
            "Updated accuracy: 0.915\n",
            "Updated accuracy: 0.915\n",
            "Updated accuracy: 0.92\n",
            "Updated accuracy: 0.92\n",
            "Updated accuracy: 0.935\n",
            "Updated accuracy: 0.94\n",
            "Updated accuracy: 0.945\n",
            "Updated accuracy: 0.95\n",
            "Updated accuracy: 0.95\n",
            "Updated accuracy: 0.95\n",
            "Updated accuracy: 0.965\n",
            "Updated accuracy: 0.965\n",
            "Updated accuracy: 0.965\n",
            "Updated accuracy: 0.97\n",
            "Updated accuracy: 0.98\n",
            "Updated accuracy: 0.975\n",
            "Updated accuracy: 0.975\n"
          ]
        },
        {
          "output_type": "display_data",
          "data": {
            "text/plain": [
              "<Figure size 640x480 with 1 Axes>"
            ],
            "image/png": "[encoded data removed]"
          },
          "metadata": {}
        }
      ]
    },
    {
      "cell_type": "code",
      "source": [],
      "metadata": {
        "id": "SJVqRzIADp4y"
      },
      "execution_count": null,
      "outputs": []
    },
    {
      "cell_type": "code",
      "source": [
        "import torch\n",
        "import joblib\n",
        "\n",
        "# Assuming `loaded_model` is your trained model\n",
        "model_path = \"/content/drive/MyDrive/Data_for_ensemble/Models/ERM_30_finetuned.pkl\"\n",
        "\n",
        "# Save the model's state dictionary\n",
        "joblib.dump(loaded_model.state_dict(), model_path)\n"
      ],
      "metadata": {
        "colab": {
          "base_uri": "https://localhost:8080/"
        },
        "id": "kp7zehX7CX_U",
        "outputId": "e13b917b-52e3-4b44-ea87-254fc8b28d65"
      },
      "execution_count": 9,
      "outputs": [
        {
          "output_type": "execute_result",
          "data": {
            "text/plain": [
              "['/content/drive/MyDrive/Data_for_ensemble/Models/ERM_30_finetuned.pkl']"
            ]
          },
          "metadata": {},
          "execution_count": 9
        }
      ]
    },
    {
      "cell_type": "code",
      "source": [
        "from transformers import DistilBertForSequenceClassification\n",
        "import torch\n",
        "import joblib\n",
        "\n",
        "# Initialize the model architecture\n",
        "loaded_model = DistilBertForSequenceClassification.from_pretrained('distilbert-base-uncased', num_labels=4)  # Adjust num_labels based on your model\n",
        "\n",
        "# Load the state dictionary\n",
        "model_path = \"/content/drive/MyDrive/Data_for_ensemble/Models/ERM_30_finetuned.pkl\"\n",
        "state_dict = joblib.load(model_path)\n",
        "loaded_model.load_state_dict(state_dict)\n",
        "\n",
        "# Move the model to the appropriate device\n",
        "device = \"cuda:0\" if torch.cuda.is_available() else \"cpu\"\n",
        "loaded_model.to(device)\n"
      ],
      "metadata": {
        "colab": {
          "base_uri": "https://localhost:8080/",
          "height": 694,
          "referenced_widgets": [
            "2cc344837d3e4f78bbcb9abbbcadfc21",
            "5fdfc3a59183418c9ece6c80df7f0d53",
            "c8b359539fb14017a5b3fa39d8e25234",
            "e3340cf285b3454db50de1669f7afd6b",
            "9302e4c54c994efb91bbf612ada70de4",
            "d3a99dd43eee42699bc1aefa107d5876",
            "fd3fbbe2a68649f7b870a9ad6387eff2",
            "28ec115f2ea847fe8047c1823eaa4760",
            "d2aac791998d4b00b4ef1f4a903463d3",
            "d3a322f621e3492981570bcae57ad4d2",
            "4a663837d74c4b54858a6ae3aadb0297"
          ]
        },
        "id": "ZcOfzORaDeKe",
        "outputId": "273dc275-b01d-433a-8ecb-3016455c29cb"
      },
      "execution_count": 10,
      "outputs": [
        {
          "output_type": "display_data",
          "data": {
            "text/plain": [
              "model.safetensors:   0%|          | 0.00/268M [00:00<?, ?B/s]"
            ],
            "application/vnd.jupyter.widget-view+json": {
              "version_major": 2,
              "version_minor": 0,
              "model_id": "2cc344837d3e4f78bbcb9abbbcadfc21"
            }
          },
          "metadata": {}
        },
        {
          "output_type": "stream",
          "name": "stderr",
          "text": [
            "Some weights of DistilBertForSequenceClassification were not initialized from the model checkpoint at distilbert-base-uncased and are newly initialized: ['classifier.bias', 'classifier.weight', 'pre_classifier.bias', 'pre_classifier.weight']\n",
            "You should probably TRAIN this model on a down-stream task to be able to use it for predictions and inference.\n"
          ]
        },
        {
          "output_type": "execute_result",
          "data": {
            "text/plain": [
              "DistilBertForSequenceClassification(\n",
              "  (distilbert): DistilBertModel(\n",
              "    (embeddings): Embeddings(\n",
              "      (word_embeddings): Embedding(30522, 768, padding_idx=0)\n",
              "      (position_embeddings): Embedding(512, 768)\n",
              "      (LayerNorm): LayerNorm((768,), eps=1e-12, elementwise_affine=True)\n",
              "      (dropout): Dropout(p=0.1, inplace=False)\n",
              "    )\n",
              "    (transformer): Transformer(\n",
              "      (layer): ModuleList(\n",
              "        (0-5): 6 x TransformerBlock(\n",
              "          (attention): MultiHeadSelfAttention(\n",
              "            (dropout): Dropout(p=0.1, inplace=False)\n",
              "            (q_lin): Linear(in_features=768, out_features=768, bias=True)\n",
              "            (k_lin): Linear(in_features=768, out_features=768, bias=True)\n",
              "            (v_lin): Linear(in_features=768, out_features=768, bias=True)\n",
              "            (out_lin): Linear(in_features=768, out_features=768, bias=True)\n",
              "          )\n",
              "          (sa_layer_norm): LayerNorm((768,), eps=1e-12, elementwise_affine=True)\n",
              "          (ffn): FFN(\n",
              "            (dropout): Dropout(p=0.1, inplace=False)\n",
              "            (lin1): Linear(in_features=768, out_features=3072, bias=True)\n",
              "            (lin2): Linear(in_features=3072, out_features=768, bias=True)\n",
              "            (activation): GELUActivation()\n",
              "          )\n",
              "          (output_layer_norm): LayerNorm((768,), eps=1e-12, elementwise_affine=True)\n",
              "        )\n",
              "      )\n",
              "    )\n",
              "  )\n",
              "  (pre_classifier): Linear(in_features=768, out_features=768, bias=True)\n",
              "  (classifier): Linear(in_features=768, out_features=4, bias=True)\n",
              "  (dropout): Dropout(p=0.2, inplace=False)\n",
              ")"
            ]
          },
          "metadata": {},
          "execution_count": 10
        }
      ]
    },
    {
      "cell_type": "code",
      "source": [
        "def loadTextModel(path):\n",
        "    # Initialize the model architecture\n",
        "    loaded_model = DistilBertForSequenceClassification.from_pretrained('distilbert-base-uncased', num_labels=4)  # Adjust num_labels based on your model\n",
        "    state_dict = joblib.load(path)\n",
        "    loaded_model.load_state_dict(state_dict)\n",
        "\n",
        "    # Move the model to the appropriate device\n",
        "    device = \"cuda:0\" if torch.cuda.is_available() else \"cpu\"\n",
        "    loaded_model.to(device)\n",
        "\n",
        "    return loaded_model\n",
        "\n",
        "\n",
        "\n"
      ],
      "metadata": {
        "id": "H1G5e7SkDkWd"
      },
      "execution_count": null,
      "outputs": []
    },
    {
      "cell_type": "code",
      "source": [
        "# def incrementalLearningText(model, Xset, Yset, label_map):\n",
        "#     tokenizer = DistilBertTokenizer.from_pretrained('distilbert-base-uncased')\n",
        "#     optimizer = torch.optim.AdamW(model.parameters(), lr=5e-5)\n",
        "#     device = \"cuda:0\" if torch.cuda.is_available() else \"cpu\"\n",
        "#     model.to(device)  # Ensure the model is on the correct device\n",
        "#     model.train()\n",
        "\n",
        "#     # Convert string labels to integer labels\n",
        "#     int_labels = [label_map[label] for label in Yset]\n",
        "\n",
        "#     data = list(zip(Xset, int_labels))\n",
        "\n",
        "#     for text, label in data:\n",
        "#         print(f\"Text: {text}, Label: {label}\")\n",
        "\n",
        "#         encoded_input = tokenizer(text, padding=True, truncation=True, return_tensors='pt').to(device)\n",
        "#         labels = torch.tensor([label]).to(device)\n",
        "#         encoded_input['labels'] = labels\n",
        "\n",
        "#         outputs = model(**encoded_input)\n",
        "#         loss = outputs.loss\n",
        "#         loss.backward()\n",
        "#         optimizer.step()\n",
        "#         optimizer.zero_grad()\n",
        "\n",
        "#     TrainedModel = model\n",
        "#     return TrainedModel\n",
        "\n",
        "# # Example usage\n",
        "# Xset = ['love you', 'what a crap']\n",
        "# Yset = ['happiness', 'sadness']\n",
        "\n",
        "# # Define the label map\n",
        "# label_map = {\n",
        "#     'happiness': 0,\n",
        "#     'sadness': 1,\n",
        "#     'anger': 2,\n",
        "#     'neutral': 3\n",
        "# }\n",
        "\n",
        "# newmodel = incrementalLearningText(loaded_model, Xset, Yset, label_map)\n"
      ],
      "metadata": {
        "id": "7wwjmfLFT_sy",
        "outputId": "6249de35-6880-4dea-92a9-7e57236d604f",
        "colab": {
          "base_uri": "https://localhost:8080/"
        }
      },
      "execution_count": 27,
      "outputs": [
        {
          "output_type": "stream",
          "name": "stdout",
          "text": [
            "Text: love you, Label: 0\n",
            "Text: what a crap, Label: 1\n"
          ]
        }
      ]
    },
    {
      "cell_type": "code",
      "source": [
        "import torch\n",
        "from transformers import DistilBertTokenizer\n",
        "import numpy as np  # if Xset and Yset are NumPy arrays\n",
        "\n",
        "def incrementalLearningText(model, Xset, Yset, Classes):\n",
        "    tokenizer = DistilBertTokenizer.from_pretrained('distilbert-base-uncased')\n",
        "    optimizer = torch.optim.AdamW(model.parameters(), lr=5e-5)\n",
        "    device = \"cuda:0\" if torch.cuda.is_available() else \"cpu\"\n",
        "    model.to(device)  # Ensure the model is on the correct device\n",
        "    model.train()\n",
        "\n",
        "    # Convert string labels to integer labels\n",
        "    int_labels = np.array([Classes[label] for label in Yset])\n",
        "    data = zip(Xset, int_labels)\n",
        "\n",
        "    for text, label in data:\n",
        "        encoded_input = tokenizer(text, padding=True, truncation=True, return_tensors='pt').to(device)\n",
        "        labels = torch.tensor([label]).to(device)\n",
        "        encoded_input['labels'] = labels\n",
        "        outputs = model(**encoded_input)\n",
        "        loss = outputs.loss\n",
        "        loss.backward()\n",
        "        optimizer.step()\n",
        "        optimizer.zero_grad()\n",
        "\n",
        "    TrainedModel = model\n",
        "    return TrainedModel\n",
        "\n",
        "# Example usage\n",
        "Xset = np.array(['I am happy', 'I am angry'])\n",
        "Yset = np.array(['Happy', 'Angry'])\n",
        "\n",
        "# Define the label map\n",
        "cls = {\n",
        "    'Angry': 2,\n",
        "    'Happy': 0,\n",
        "    'Sad': 1,\n",
        "    'Neutral': 3\n",
        "}\n",
        "\n",
        "newmodel = incrementalLearningText(loaded_model, Xset, Yset, cls)\n"
      ],
      "metadata": {
        "id": "ArlN7oOGUhW7",
        "outputId": "90a6907f-91ca-49dd-bd90-a03758d2b203",
        "colab": {
          "base_uri": "https://localhost:8080/"
        }
      },
      "execution_count": 32,
      "outputs": [
        {
          "output_type": "stream",
          "name": "stdout",
          "text": [
            "Text: I am happy, Label: 0\n",
            "tensor([[0.6752, 0.1942, 0.0813, 0.0493]], device='cuda:0',\n",
            "       grad_fn=<SoftmaxBackward0>)\n",
            "Text: I am angry, Label: 2\n",
            "tensor([[0.0325, 0.4808, 0.4721, 0.0145]], device='cuda:0',\n",
            "       grad_fn=<SoftmaxBackward0>)\n"
          ]
        }
      ]
    }
  ],
  "metadata": {
    "accelerator": "GPU",
    "colab": {
      "provenance": [],
      "gpuType": "T4",
      "include_colab_link": true
    },
    "kernelspec": {
      "display_name": "Python 3",
      "name": "python3"
    },
    "language_info": {
      "codemirror_mode": {
        "name": "ipython",
        "version": 3
      },
      "file_extension": ".py",
      "mimetype": "text/x-python",
      "name": "python",
      "nbconvert_exporter": "python",
      "pygments_lexer": "ipython3",
      "version": "3.10.2"
    },
    "widgets": {
      "application/vnd.jupyter.widget-state+json": {
        "2cc344837d3e4f78bbcb9abbbcadfc21": {
          "model_module": "@jupyter-widgets/controls",
          "model_name": "HBoxModel",
          "model_module_version": "1.5.0",
          "state": {
            "_dom_classes": [],
            "_model_module": "@jupyter-widgets/controls",
            "_model_module_version": "1.5.0",
            "_model_name": "HBoxModel",
            "_view_count": null,
            "_view_module": "@jupyter-widgets/controls",
            "_view_module_version": "1.5.0",
            "_view_name": "HBoxView",
            "box_style": "",
            "children": [
              "IPY_MODEL_5fdfc3a59183418c9ece6c80df7f0d53",
              "IPY_MODEL_c8b359539fb14017a5b3fa39d8e25234",
              "IPY_MODEL_e3340cf285b3454db50de1669f7afd6b"
            ],
            "layout": "IPY_MODEL_9302e4c54c994efb91bbf612ada70de4"
          }
        },
        "5fdfc3a59183418c9ece6c80df7f0d53": {
          "model_module": "@jupyter-widgets/controls",
          "model_name": "HTMLModel",
          "model_module_version": "1.5.0",
          "state": {
            "_dom_classes": [],
            "_model_module": "@jupyter-widgets/controls",
            "_model_module_version": "1.5.0",
            "_model_name": "HTMLModel",
            "_view_count": null,
            "_view_module": "@jupyter-widgets/controls",
            "_view_module_version": "1.5.0",
            "_view_name": "HTMLView",
            "description": "",
            "description_tooltip": null,
            "layout": "IPY_MODEL_d3a99dd43eee42699bc1aefa107d5876",
            "placeholder": "​",
            "style": "IPY_MODEL_fd3fbbe2a68649f7b870a9ad6387eff2",
            "value": "model.safetensors: 100%"
          }
        },
        "c8b359539fb14017a5b3fa39d8e25234": {
          "model_module": "@jupyter-widgets/controls",
          "model_name": "FloatProgressModel",
          "model_module_version": "1.5.0",
          "state": {
            "_dom_classes": [],
            "_model_module": "@jupyter-widgets/controls",
            "_model_module_version": "1.5.0",
            "_model_name": "FloatProgressModel",
            "_view_count": null,
            "_view_module": "@jupyter-widgets/controls",
            "_view_module_version": "1.5.0",
            "_view_name": "ProgressView",
            "bar_style": "success",
            "description": "",
            "description_tooltip": null,
            "layout": "IPY_MODEL_28ec115f2ea847fe8047c1823eaa4760",
            "max": 267954768,
            "min": 0,
            "orientation": "horizontal",
            "style": "IPY_MODEL_d2aac791998d4b00b4ef1f4a903463d3",
            "value": 267954768
          }
        },
        "e3340cf285b3454db50de1669f7afd6b": {
          "model_module": "@jupyter-widgets/controls",
          "model_name": "HTMLModel",
          "model_module_version": "1.5.0",
          "state": {
            "_dom_classes": [],
            "_model_module": "@jupyter-widgets/controls",
            "_model_module_version": "1.5.0",
            "_model_name": "HTMLModel",
            "_view_count": null,
            "_view_module": "@jupyter-widgets/controls",
            "_view_module_version": "1.5.0",
            "_view_name": "HTMLView",
            "description": "",
            "description_tooltip": null,
            "layout": "IPY_MODEL_d3a322f621e3492981570bcae57ad4d2",
            "placeholder": "​",
            "style": "IPY_MODEL_4a663837d74c4b54858a6ae3aadb0297",
            "value": " 268M/268M [00:02&lt;00:00, 82.9MB/s]"
          }
        },
        "9302e4c54c994efb91bbf612ada70de4": {
          "model_module": "@jupyter-widgets/base",
          "model_name": "LayoutModel",
          "model_module_version": "1.2.0",
          "state": {
            "_model_module": "@jupyter-widgets/base",
            "_model_module_version": "1.2.0",
            "_model_name": "LayoutModel",
            "_view_count": null,
            "_view_module": "@jupyter-widgets/base",
            "_view_module_version": "1.2.0",
            "_view_name": "LayoutView",
            "align_content": null,
            "align_items": null,
            "align_self": null,
            "border": null,
            "bottom": null,
            "display": null,
            "flex": null,
            "flex_flow": null,
            "grid_area": null,
            "grid_auto_columns": null,
            "grid_auto_flow": null,
            "grid_auto_rows": null,
            "grid_column": null,
            "grid_gap": null,
            "grid_row": null,
            "grid_template_areas": null,
            "grid_template_columns": null,
            "grid_template_rows": null,
            "height": null,
            "justify_content": null,
            "justify_items": null,
            "left": null,
            "margin": null,
            "max_height": null,
            "max_width": null,
            "min_height": null,
            "min_width": null,
            "object_fit": null,
            "object_position": null,
            "order": null,
            "overflow": null,
            "overflow_x": null,
            "overflow_y": null,
            "padding": null,
            "right": null,
            "top": null,
            "visibility": null,
            "width": null
          }
        },
        "d3a99dd43eee42699bc1aefa107d5876": {
          "model_module": "@jupyter-widgets/base",
          "model_name": "LayoutModel",
          "model_module_version": "1.2.0",
          "state": {
            "_model_module": "@jupyter-widgets/base",
            "_model_module_version": "1.2.0",
            "_model_name": "LayoutModel",
            "_view_count": null,
            "_view_module": "@jupyter-widgets/base",
            "_view_module_version": "1.2.0",
            "_view_name": "LayoutView",
            "align_content": null,
            "align_items": null,
            "align_self": null,
            "border": null,
            "bottom": null,
            "display": null,
            "flex": null,
            "flex_flow": null,
            "grid_area": null,
            "grid_auto_columns": null,
            "grid_auto_flow": null,
            "grid_auto_rows": null,
            "grid_column": null,
            "grid_gap": null,
            "grid_row": null,
            "grid_template_areas": null,
            "grid_template_columns": null,
            "grid_template_rows": null,
            "height": null,
            "justify_content": null,
            "justify_items": null,
            "left": null,
            "margin": null,
            "max_height": null,
            "max_width": null,
            "min_height": null,
            "min_width": null,
            "object_fit": null,
            "object_position": null,
            "order": null,
            "overflow": null,
            "overflow_x": null,
            "overflow_y": null,
            "padding": null,
            "right": null,
            "top": null,
            "visibility": null,
            "width": null
          }
        },
        "fd3fbbe2a68649f7b870a9ad6387eff2": {
          "model_module": "@jupyter-widgets/controls",
          "model_name": "DescriptionStyleModel",
          "model_module_version": "1.5.0",
          "state": {
            "_model_module": "@jupyter-widgets/controls",
            "_model_module_version": "1.5.0",
            "_model_name": "DescriptionStyleModel",
            "_view_count": null,
            "_view_module": "@jupyter-widgets/base",
            "_view_module_version": "1.2.0",
            "_view_name": "StyleView",
            "description_width": ""
          }
        },
        "28ec115f2ea847fe8047c1823eaa4760": {
          "model_module": "@jupyter-widgets/base",
          "model_name": "LayoutModel",
          "model_module_version": "1.2.0",
          "state": {
            "_model_module": "@jupyter-widgets/base",
            "_model_module_version": "1.2.0",
            "_model_name": "LayoutModel",
            "_view_count": null,
            "_view_module": "@jupyter-widgets/base",
            "_view_module_version": "1.2.0",
            "_view_name": "LayoutView",
            "align_content": null,
            "align_items": null,
            "align_self": null,
            "border": null,
            "bottom": null,
            "display": null,
            "flex": null,
            "flex_flow": null,
            "grid_area": null,
            "grid_auto_columns": null,
            "grid_auto_flow": null,
            "grid_auto_rows": null,
            "grid_column": null,
            "grid_gap": null,
            "grid_row": null,
            "grid_template_areas": null,
            "grid_template_columns": null,
            "grid_template_rows": null,
            "height": null,
            "justify_content": null,
            "justify_items": null,
            "left": null,
            "margin": null,
            "max_height": null,
            "max_width": null,
            "min_height": null,
            "min_width": null,
            "object_fit": null,
            "object_position": null,
            "order": null,
            "overflow": null,
            "overflow_x": null,
            "overflow_y": null,
            "padding": null,
            "right": null,
            "top": null,
            "visibility": null,
            "width": null
          }
        },
        "d2aac791998d4b00b4ef1f4a903463d3": {
          "model_module": "@jupyter-widgets/controls",
          "model_name": "ProgressStyleModel",
          "model_module_version": "1.5.0",
          "state": {
            "_model_module": "@jupyter-widgets/controls",
            "_model_module_version": "1.5.0",
            "_model_name": "ProgressStyleModel",
            "_view_count": null,
            "_view_module": "@jupyter-widgets/base",
            "_view_module_version": "1.2.0",
            "_view_name": "StyleView",
            "bar_color": null,
            "description_width": ""
          }
        },
        "d3a322f621e3492981570bcae57ad4d2": {
          "model_module": "@jupyter-widgets/base",
          "model_name": "LayoutModel",
          "model_module_version": "1.2.0",
          "state": {
            "_model_module": "@jupyter-widgets/base",
            "_model_module_version": "1.2.0",
            "_model_name": "LayoutModel",
            "_view_count": null,
            "_view_module": "@jupyter-widgets/base",
            "_view_module_version": "1.2.0",
            "_view_name": "LayoutView",
            "align_content": null,
            "align_items": null,
            "align_self": null,
            "border": null,
            "bottom": null,
            "display": null,
            "flex": null,
            "flex_flow": null,
            "grid_area": null,
            "grid_auto_columns": null,
            "grid_auto_flow": null,
            "grid_auto_rows": null,
            "grid_column": null,
            "grid_gap": null,
            "grid_row": null,
            "grid_template_areas": null,
            "grid_template_columns": null,
            "grid_template_rows": null,
            "height": null,
            "justify_content": null,
            "justify_items": null,
            "left": null,
            "margin": null,
            "max_height": null,
            "max_width": null,
            "min_height": null,
            "min_width": null,
            "object_fit": null,
            "object_position": null,
            "order": null,
            "overflow": null,
            "overflow_x": null,
            "overflow_y": null,
            "padding": null,
            "right": null,
            "top": null,
            "visibility": null,
            "width": null
          }
        },
        "4a663837d74c4b54858a6ae3aadb0297": {
          "model_module": "@jupyter-widgets/controls",
          "model_name": "DescriptionStyleModel",
          "model_module_version": "1.5.0",
          "state": {
            "_model_module": "@jupyter-widgets/controls",
            "_model_module_version": "1.5.0",
            "_model_name": "DescriptionStyleModel",
            "_view_count": null,
            "_view_module": "@jupyter-widgets/base",
            "_view_module_version": "1.2.0",
            "_view_name": "StyleView",
            "description_width": ""
          }
        }
      }
    }
  },
  "nbformat": 4,
  "nbformat_minor": 0
}